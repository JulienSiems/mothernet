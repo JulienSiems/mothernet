{
 "cells": [
  {
   "cell_type": "code",
   "execution_count": 2,
   "id": "7fc3a779-d177-473a-ab82-3cd6373051d5",
   "metadata": {},
   "outputs": [],
   "source": [
    "from mothernet.models.mothernet_additive import bin_data"
   ]
  },
  {
   "cell_type": "code",
   "execution_count": 27,
   "id": "4d555b39-815c-4f9d-9d08-f373c3bdaa42",
   "metadata": {},
   "outputs": [],
   "source": [
    "import torch\n"
   ]
  },
  {
   "cell_type": "code",
   "execution_count": 28,
   "id": "c715bcb3-379e-4f99-87c4-9e3c398b7901",
   "metadata": {},
   "outputs": [],
   "source": [
    "X_binned, bin_edges = bin_data(X, n_bins=64)"
   ]
  },
  {
   "cell_type": "code",
   "execution_count": 29,
   "id": "2f76ab9a-760d-4e64-803b-a59e97a7aba7",
   "metadata": {},
   "outputs": [],
   "source": [
    "assert (X_binned.sum(axis=-1) == 1).all()\n",
    "assert X_binned.shape[-1] == 64\n",
    "assert X_binned.shape[:-1] == X.shape"
   ]
  },
  {
   "cell_type": "code",
   "execution_count": 30,
   "id": "a42cf4dd-1f4f-40cf-acbd-cd313fbb2d6b",
   "metadata": {},
   "outputs": [
    {
     "data": {
      "text/plain": [
       "tensor([[16, 16, 16, 16, 16, 16, 16, 16, 16, 16, 16, 16, 16, 16, 16, 16, 16, 16,\n",
       "         16, 16, 16, 16, 16, 16, 16, 16, 16, 16, 16, 16, 16, 16, 16, 16, 16, 16,\n",
       "         16, 16, 16, 16, 16, 16, 16, 16, 16, 16, 16, 16, 16, 16, 16, 16, 16, 16,\n",
       "         16, 16, 16, 16, 16, 16, 16, 16, 16, 16]])"
      ]
     },
     "execution_count": 30,
     "metadata": {},
     "output_type": "execute_result"
    }
   ],
   "source": [
    "X_binned.sum(axis=0).sum(axis=1)"
   ]
  }
 ],
 "metadata": {
  "kernelspec": {
   "display_name": "Python [conda env:tabpfn_testing_environment]",
   "language": "python",
   "name": "conda-env-tabpfn_testing_environment-py"
  },
  "language_info": {
   "codemirror_mode": {
    "name": "ipython",
    "version": 3
   },
   "file_extension": ".py",
   "mimetype": "text/x-python",
   "name": "python",
   "nbconvert_exporter": "python",
   "pygments_lexer": "ipython3",
   "version": "3.11.6"
  }
 },
 "nbformat": 4,
 "nbformat_minor": 5
}
